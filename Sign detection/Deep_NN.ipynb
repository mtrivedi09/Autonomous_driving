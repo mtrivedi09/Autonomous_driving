{
 "cells": [
  {
   "cell_type": "code",
   "execution_count": 20,
   "metadata": {},
   "outputs": [],
   "source": [
    "import numpy as np\n",
    "import matplotlib.pyplot as plt\n",
    "import keras\n",
    "from sklearn import datasets\n",
    "from keras.models import Sequential\n",
    "from keras.layers import Dense\n",
    "from keras.optimizers import Adam"
   ]
  },
  {
   "cell_type": "code",
   "execution_count": 2,
   "metadata": {},
   "outputs": [],
   "source": [
    "np.random.seed(0)"
   ]
  },
  {
   "cell_type": "code",
   "execution_count": 11,
   "metadata": {},
   "outputs": [],
   "source": [
    "n_pts = 500\n",
    "X, y = datasets.make_circles(n_samples = n_pts, random_state = 123, noise = 0.1, factor = 0.2)"
   ]
  },
  {
   "cell_type": "code",
   "execution_count": 9,
   "metadata": {},
   "outputs": [
    {
     "data": {
      "text/plain": [
       "<matplotlib.collections.PathCollection at 0x1cadac537c8>"
      ]
     },
     "execution_count": 9,
     "metadata": {},
     "output_type": "execute_result"
    },
    {
     "data": {
      "image/png": "[encoded data removed]",
      "text/plain": [
       "<Figure size 432x288 with 1 Axes>"
      ]
     },
     "metadata": {
      "needs_background": "light"
     },
     "output_type": "display_data"
    }
   ],
   "source": [
    "plt.scatter(X[y==0, 0], X[y==0, 1])\n",
    "plt.scatter(X[y==1, 0], X[y==1, 1])"
   ]
  },
  {
   "cell_type": "code",
   "execution_count": 15,
   "metadata": {},
   "outputs": [],
   "source": [
    "model = Sequential()\n",
    "model.add(Dense(4, input_shape=(2,), activation='sigmoid'))\n",
    "model.add(Dense(1, activation='sigmoid'))\n",
    "model.compile(Adam(lr=0.01), 'binary_crossentropy', metrics=['accuracy'])"
   ]
  },
  {
   "cell_type": "code",
   "execution_count": 17,
   "metadata": {},
   "outputs": [
    {
     "name": "stdout",
     "output_type": "stream",
     "text": [
      "Epoch 1/100\n",
      "500/500 [==============================] - 0s 195us/step - loss: 0.7343 - accuracy: 0.5000\n",
      "Epoch 2/100\n",
      "500/500 [==============================] - 0s 42us/step - loss: 0.6936 - accuracy: 0.4840\n",
      "Epoch 3/100\n",
      "500/500 [==============================] - 0s 38us/step - loss: 0.6931 - accuracy: 0.6300\n",
      "Epoch 4/100\n",
      "500/500 [==============================] - 0s 38us/step - loss: 0.6927 - accuracy: 0.5700\n",
      "Epoch 5/100\n",
      "500/500 [==============================] - 0s 42us/step - loss: 0.6923 - accuracy: 0.6300\n",
      "Epoch 6/100\n",
      "500/500 [==============================] - 0s 38us/step - loss: 0.6920 - accuracy: 0.4000\n",
      "Epoch 7/100\n",
      "500/500 [==============================] - 0s 40us/step - loss: 0.6919 - accuracy: 0.6520\n",
      "Epoch 8/100\n",
      "500/500 [==============================] - 0s 31us/step - loss: 0.6908 - accuracy: 0.6100\n",
      "Epoch 9/100\n",
      "500/500 [==============================] - 0s 34us/step - loss: 0.6892 - accuracy: 0.4180\n",
      "Epoch 10/100\n",
      "500/500 [==============================] - 0s 35us/step - loss: 0.6873 - accuracy: 0.4100\n",
      "Epoch 11/100\n",
      "500/500 [==============================] - 0s 33us/step - loss: 0.6841 - accuracy: 0.6120\n",
      "Epoch 12/100\n",
      "500/500 [==============================] - 0s 34us/step - loss: 0.6805 - accuracy: 0.5540\n",
      "Epoch 13/100\n",
      "500/500 [==============================] - 0s 32us/step - loss: 0.6739 - accuracy: 0.6620\n",
      "Epoch 14/100\n",
      "500/500 [==============================] - 0s 32us/step - loss: 0.6657 - accuracy: 0.6940\n",
      "Epoch 15/100\n",
      "500/500 [==============================] - ETA: 0s - loss: 0.6535 - accuracy: 0.70 - 0s 40us/step - loss: 0.6552 - accuracy: 0.7340\n",
      "Epoch 16/100\n",
      "500/500 [==============================] - 0s 37us/step - loss: 0.6418 - accuracy: 0.7780\n",
      "Epoch 17/100\n",
      "500/500 [==============================] - 0s 32us/step - loss: 0.6254 - accuracy: 0.8460\n",
      "Epoch 18/100\n",
      "500/500 [==============================] - 0s 34us/step - loss: 0.6047 - accuracy: 0.8700\n",
      "Epoch 19/100\n",
      "500/500 [==============================] - 0s 34us/step - loss: 0.5804 - accuracy: 0.8960\n",
      "Epoch 20/100\n",
      "500/500 [==============================] - 0s 32us/step - loss: 0.5551 - accuracy: 0.9140\n",
      "Epoch 21/100\n",
      "500/500 [==============================] - 0s 36us/step - loss: 0.5276 - accuracy: 0.9240\n",
      "Epoch 22/100\n",
      "500/500 [==============================] - 0s 32us/step - loss: 0.5005 - accuracy: 0.9360\n",
      "Epoch 23/100\n",
      "500/500 [==============================] - 0s 32us/step - loss: 0.4735 - accuracy: 0.9420\n",
      "Epoch 24/100\n",
      "500/500 [==============================] - 0s 33us/step - loss: 0.4469 - accuracy: 0.9520\n",
      "Epoch 25/100\n",
      "500/500 [==============================] - 0s 32us/step - loss: 0.4219 - accuracy: 0.9580\n",
      "Epoch 26/100\n",
      "500/500 [==============================] - 0s 31us/step - loss: 0.3964 - accuracy: 0.9620\n",
      "Epoch 27/100\n",
      "500/500 [==============================] - 0s 32us/step - loss: 0.3719 - accuracy: 0.9740\n",
      "Epoch 28/100\n",
      "500/500 [==============================] - 0s 32us/step - loss: 0.3478 - accuracy: 0.9740\n",
      "Epoch 29/100\n",
      "500/500 [==============================] - 0s 33us/step - loss: 0.3246 - accuracy: 0.9880\n",
      "Epoch 30/100\n",
      "500/500 [==============================] - 0s 32us/step - loss: 0.3022 - accuracy: 0.9900\n",
      "Epoch 31/100\n",
      "500/500 [==============================] - 0s 34us/step - loss: 0.2811 - accuracy: 0.9980\n",
      "Epoch 32/100\n",
      "500/500 [==============================] - 0s 34us/step - loss: 0.2609 - accuracy: 0.9980\n",
      "Epoch 33/100\n",
      "500/500 [==============================] - 0s 34us/step - loss: 0.2425 - accuracy: 0.9980\n",
      "Epoch 34/100\n",
      "500/500 [==============================] - 0s 32us/step - loss: 0.2258 - accuracy: 0.9980\n",
      "Epoch 35/100\n",
      "500/500 [==============================] - 0s 36us/step - loss: 0.2104 - accuracy: 0.9980\n",
      "Epoch 36/100\n",
      "500/500 [==============================] - 0s 34us/step - loss: 0.1966 - accuracy: 0.9980\n",
      "Epoch 37/100\n",
      "500/500 [==============================] - 0s 34us/step - loss: 0.1841 - accuracy: 0.9980\n",
      "Epoch 38/100\n",
      "500/500 [==============================] - 0s 36us/step - loss: 0.1728 - accuracy: 0.9980\n",
      "Epoch 39/100\n",
      "500/500 [==============================] - 0s 34us/step - loss: 0.1624 - accuracy: 0.9980\n",
      "Epoch 40/100\n",
      "500/500 [==============================] - 0s 32us/step - loss: 0.1532 - accuracy: 0.9960\n",
      "Epoch 41/100\n",
      "500/500 [==============================] - 0s 32us/step - loss: 0.1444 - accuracy: 1.0000\n",
      "Epoch 42/100\n",
      "500/500 [==============================] - 0s 34us/step - loss: 0.1368 - accuracy: 0.9980\n",
      "Epoch 43/100\n",
      "500/500 [==============================] - 0s 34us/step - loss: 0.1296 - accuracy: 1.0000\n",
      "Epoch 44/100\n",
      "500/500 [==============================] - 0s 32us/step - loss: 0.1231 - accuracy: 0.9980\n",
      "Epoch 45/100\n",
      "500/500 [==============================] - ETA: 0s - loss: 0.1294 - accuracy: 0.95 - 0s 32us/step - loss: 0.1170 - accuracy: 0.9980\n",
      "Epoch 46/100\n",
      "500/500 [==============================] - 0s 32us/step - loss: 0.1116 - accuracy: 0.9980\n",
      "Epoch 47/100\n",
      "500/500 [==============================] - 0s 34us/step - loss: 0.1063 - accuracy: 0.9980\n",
      "Epoch 48/100\n",
      "500/500 [==============================] - 0s 32us/step - loss: 0.1017 - accuracy: 0.9980\n",
      "Epoch 49/100\n",
      "500/500 [==============================] - 0s 32us/step - loss: 0.0972 - accuracy: 0.9980\n",
      "Epoch 50/100\n",
      "500/500 [==============================] - 0s 35us/step - loss: 0.0931 - accuracy: 0.9980\n",
      "Epoch 51/100\n",
      "500/500 [==============================] - 0s 33us/step - loss: 0.0892 - accuracy: 0.9980\n",
      "Epoch 52/100\n",
      "500/500 [==============================] - 0s 34us/step - loss: 0.0857 - accuracy: 0.9980\n",
      "Epoch 53/100\n",
      "500/500 [==============================] - 0s 36us/step - loss: 0.0822 - accuracy: 0.9980\n",
      "Epoch 54/100\n",
      "500/500 [==============================] - 0s 30us/step - loss: 0.0791 - accuracy: 0.9980\n",
      "Epoch 55/100\n",
      "500/500 [==============================] - ETA: 0s - loss: 0.0792 - accuracy: 1.00 - 0s 31us/step - loss: 0.0762 - accuracy: 0.9980\n",
      "Epoch 56/100\n",
      "500/500 [==============================] - 0s 32us/step - loss: 0.0734 - accuracy: 0.9980\n",
      "Epoch 57/100\n",
      "500/500 [==============================] - 0s 31us/step - loss: 0.0707 - accuracy: 0.9980\n",
      "Epoch 58/100\n",
      "500/500 [==============================] - 0s 32us/step - loss: 0.0682 - accuracy: 0.9980\n",
      "Epoch 59/100\n",
      "500/500 [==============================] - 0s 31us/step - loss: 0.0659 - accuracy: 0.9980\n",
      "Epoch 60/100\n",
      "500/500 [==============================] - 0s 36us/step - loss: 0.0637 - accuracy: 0.9980\n",
      "Epoch 61/100\n",
      "500/500 [==============================] - 0s 40us/step - loss: 0.0616 - accuracy: 0.9980\n",
      "Epoch 62/100\n",
      "500/500 [==============================] - 0s 32us/step - loss: 0.0595 - accuracy: 0.9980\n",
      "Epoch 63/100\n",
      "500/500 [==============================] - 0s 34us/step - loss: 0.0578 - accuracy: 0.9980\n",
      "Epoch 64/100\n",
      "500/500 [==============================] - 0s 40us/step - loss: 0.0559 - accuracy: 0.9980\n",
      "Epoch 65/100\n",
      "500/500 [==============================] - 0s 40us/step - loss: 0.0542 - accuracy: 0.9980\n",
      "Epoch 66/100\n",
      "500/500 [==============================] - 0s 40us/step - loss: 0.0525 - accuracy: 0.9980\n",
      "Epoch 67/100\n",
      "500/500 [==============================] - 0s 38us/step - loss: 0.0510 - accuracy: 0.9980\n",
      "Epoch 68/100\n",
      "500/500 [==============================] - 0s 42us/step - loss: 0.0495 - accuracy: 0.9980\n",
      "Epoch 69/100\n",
      "500/500 [==============================] - 0s 36us/step - loss: 0.0480 - accuracy: 0.9980\n",
      "Epoch 70/100\n",
      "500/500 [==============================] - 0s 46us/step - loss: 0.0467 - accuracy: 0.9980\n",
      "Epoch 71/100\n",
      "500/500 [==============================] - 0s 40us/step - loss: 0.0454 - accuracy: 0.9980\n",
      "Epoch 72/100\n",
      "500/500 [==============================] - 0s 30us/step - loss: 0.0442 - accuracy: 0.9980\n",
      "Epoch 73/100\n",
      "500/500 [==============================] - 0s 30us/step - loss: 0.0430 - accuracy: 0.9980\n",
      "Epoch 74/100\n",
      "500/500 [==============================] - 0s 30us/step - loss: 0.0418 - accuracy: 0.9980\n",
      "Epoch 75/100\n",
      "500/500 [==============================] - 0s 32us/step - loss: 0.0407 - accuracy: 0.9980\n",
      "Epoch 76/100\n",
      "500/500 [==============================] - 0s 32us/step - loss: 0.0397 - accuracy: 0.9980\n",
      "Epoch 77/100\n",
      "500/500 [==============================] - 0s 32us/step - loss: 0.0387 - accuracy: 0.9980\n",
      "Epoch 78/100\n",
      "500/500 [==============================] - 0s 34us/step - loss: 0.0377 - accuracy: 0.9980\n",
      "Epoch 79/100\n",
      "500/500 [==============================] - 0s 32us/step - loss: 0.0368 - accuracy: 0.9980\n",
      "Epoch 80/100\n",
      "500/500 [==============================] - 0s 31us/step - loss: 0.0359 - accuracy: 1.0000\n",
      "Epoch 81/100\n",
      "500/500 [==============================] - 0s 32us/step - loss: 0.0351 - accuracy: 0.9980\n",
      "Epoch 82/100\n",
      "500/500 [==============================] - 0s 34us/step - loss: 0.0343 - accuracy: 1.0000\n",
      "Epoch 83/100\n",
      "500/500 [==============================] - 0s 34us/step - loss: 0.0334 - accuracy: 1.0000\n",
      "Epoch 84/100\n",
      "500/500 [==============================] - 0s 32us/step - loss: 0.0326 - accuracy: 1.0000\n",
      "Epoch 85/100\n",
      "500/500 [==============================] - 0s 34us/step - loss: 0.0320 - accuracy: 1.0000\n",
      "Epoch 86/100\n",
      "500/500 [==============================] - 0s 34us/step - loss: 0.0312 - accuracy: 1.0000\n",
      "Epoch 87/100\n",
      "500/500 [==============================] - 0s 32us/step - loss: 0.0305 - accuracy: 0.9980\n",
      "Epoch 88/100\n",
      "500/500 [==============================] - 0s 32us/step - loss: 0.0298 - accuracy: 0.9980\n",
      "Epoch 89/100\n",
      "500/500 [==============================] - 0s 34us/step - loss: 0.0291 - accuracy: 1.0000\n",
      "Epoch 90/100\n",
      "500/500 [==============================] - 0s 32us/step - loss: 0.0286 - accuracy: 1.0000\n",
      "Epoch 91/100\n",
      "500/500 [==============================] - 0s 32us/step - loss: 0.0280 - accuracy: 1.0000\n",
      "Epoch 92/100\n",
      "500/500 [==============================] - 0s 32us/step - loss: 0.0273 - accuracy: 1.0000\n",
      "Epoch 93/100\n",
      "500/500 [==============================] - 0s 34us/step - loss: 0.0268 - accuracy: 1.0000\n",
      "Epoch 94/100\n",
      "500/500 [==============================] - 0s 33us/step - loss: 0.0263 - accuracy: 1.0000\n",
      "Epoch 95/100\n",
      "500/500 [==============================] - 0s 32us/step - loss: 0.0257 - accuracy: 1.0000\n",
      "Epoch 96/100\n",
      "500/500 [==============================] - 0s 32us/step - loss: 0.0252 - accuracy: 1.0000\n",
      "Epoch 97/100\n",
      "500/500 [==============================] - 0s 32us/step - loss: 0.0247 - accuracy: 1.0000\n",
      "Epoch 98/100\n",
      "500/500 [==============================] - 0s 32us/step - loss: 0.0242 - accuracy: 1.0000\n",
      "Epoch 99/100\n",
      "500/500 [==============================] - 0s 34us/step - loss: 0.0237 - accuracy: 1.0000\n",
      "Epoch 100/100\n",
      "500/500 [==============================] - 0s 36us/step - loss: 0.0233 - accuracy: 1.0000\n"
     ]
    }
   ],
   "source": [
    "h = model.fit(x=X, y=y, verbose=1, batch_size=20, epochs=100, shuffle='true')"
   ]
  },
  {
   "cell_type": "code",
   "execution_count": 18,
   "metadata": {},
   "outputs": [
    {
     "data": {
      "text/plain": [
       "<matplotlib.legend.Legend at 0x1cae4705948>"
      ]
     },
     "execution_count": 18,
     "metadata": {},
     "output_type": "execute_result"
    },
    {
     "data": {
      "image/png": "[encoded data removed]",
      "text/plain": [
       "<Figure size 432x288 with 1 Axes>"
      ]
     },
     "metadata": {
      "needs_background": "light"
     },
     "output_type": "display_data"
    }
   ],
   "source": [
    "plt.plot(h.history['accuracy'])\n",
    "plt.xlabel('epochs')\n",
    "plt.title('Accuracy')\n",
    "plt.legend('accuracy')"
   ]
  },
  {
   "cell_type": "code",
   "execution_count": 19,
   "metadata": {},
   "outputs": [
    {
     "data": {
      "text/plain": [
       "<matplotlib.legend.Legend at 0x1cae4150a08>"
      ]
     },
     "execution_count": 19,
     "metadata": {},
     "output_type": "execute_result"
    },
    {
     "data": {
      "image/png": "[encoded data removed]",
      "text/plain": [
       "<Figure size 432x288 with 1 Axes>"
      ]
     },
     "metadata": {
      "needs_background": "light"
     },
     "output_type": "display_data"
    }
   ],
   "source": [
    "plt.plot(h.history['loss'])\n",
    "plt.xlabel('epochs')\n",
    "plt.title('Loss')\n",
    "plt.legend('loss')"
   ]
  },
  {
   "cell_type": "code",
   "execution_count": 21,
   "metadata": {},
   "outputs": [
    {
     "data": {
      "text/plain": [
       "<matplotlib.collections.PathCollection at 0x1cae41349c8>"
      ]
     },
     "execution_count": 21,
     "metadata": {},
     "output_type": "execute_result"
    },
    {
     "data": {
      "image/png": "[encoded data removed]",
      "text/plain": [
       "<Figure size 432x288 with 1 Axes>"
      ]
     },
     "metadata": {
      "needs_background": "light"
     },
     "output_type": "display_data"
    }
   ],
   "source": [
    "def plot_decision_boundary(X, y, model):\n",
    "    x_span = np.linspace(min(X[:,0]) - 0.25, max(X[:,0]) + 0.25)\n",
    "    y_span = np.linspace(min(X[:,1]) - 0.25, max(X[:,1]) + 0.25)\n",
    "    xx, yy = np.meshgrid(x_span, y_span)\n",
    "    grid = np.c_[xx.ravel(), yy.ravel()]\n",
    "    pred_func = model.predict(grid)\n",
    "    z = pred_func.reshape(xx.shape)\n",
    "    plt.contourf(xx, yy, z)\n",
    "\n",
    "plot_decision_boundary(X, y, model)\n",
    "plt.scatter(X[y==0, 0], X[y==0, 1])\n",
    "plt.scatter(X[y==1, 0], X[y==1, 1])"
   ]
  },
  {
   "cell_type": "code",
   "execution_count": 27,
   "metadata": {},
   "outputs": [
    {
     "name": "stdout",
     "output_type": "stream",
     "text": [
      "Prediction is:  [[0.98435783]]\n"
     ]
    },
    {
     "data": {
      "image/png": "[encoded data removed]",
      "text/plain": [
       "<Figure size 432x288 with 1 Axes>"
      ]
     },
     "metadata": {
      "needs_background": "light"
     },
     "output_type": "display_data"
    }
   ],
   "source": [
    "plot_decision_boundary(X, y, model)\n",
    "plt.scatter(X[y==0, 0], X[y==0, 1])\n",
    "plt.scatter(X[y==1, 0], X[y==1, 1])\n",
    " \n",
    "x = 0\n",
    "y = 0.2\n",
    " \n",
    "point = np.array([[x, y]])\n",
    "predict = model.predict(point)\n",
    "plt.plot([x], [y], marker='o', markersize=10, color=\"red\")\n",
    "print(\"Prediction is: \", predict)"
   ]
  },
  {
   "cell_type": "code",
   "execution_count": null,
   "metadata": {},
   "outputs": [],
   "source": []
  }
 ],
 "metadata": {
  "kernelspec": {
   "display_name": "Python 3",
   "language": "python",
   "name": "python3"
  },
  "language_info": {
   "codemirror_mode": {
    "name": "ipython",
    "version": 3
   },
   "file_extension": ".py",
   "mimetype": "text/x-python",
   "name": "python",
   "nbconvert_exporter": "python",
   "pygments_lexer": "ipython3",
   "version": "3.7.6"
  }
 },
 "nbformat": 4,
 "nbformat_minor": 4
}
